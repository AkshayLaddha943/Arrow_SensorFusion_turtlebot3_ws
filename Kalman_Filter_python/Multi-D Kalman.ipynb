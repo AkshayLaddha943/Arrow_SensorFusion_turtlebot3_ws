{
 "cells": [
  {
   "cell_type": "code",
   "execution_count": 14,
   "id": "7b54a0b9",
   "metadata": {},
   "outputs": [],
   "source": [
    "#import pykalman\n",
    "\n",
    "#importing the required libraries\n",
    "import numpy as np\n",
    "import matplotlib.pyplot as plt"
   ]
  },
  {
   "cell_type": "code",
   "execution_count": 31,
   "id": "030e07b0",
   "metadata": {},
   "outputs": [],
   "source": [
    "\n",
    "def kalman_multi(x, P, measurement, R, motion = np.matrix('0. 5. 0. 5.').T, Q = np.matrix(np.eye(4))):\n",
    "    \n",
    "    \"\"\"\n",
    "    Parameters:    \n",
    "    x: initial state 4-tuple of location and velocity: (x0, x1, x0_dot, x1_dot)\n",
    "    P: initial uncertainty convariance matrix\n",
    "    measurement: observed position\n",
    "    R: measurement noise \n",
    "    motion: external motion added to state vector x\n",
    "    Q: motion noise (same shape as P)\n",
    "    \n",
    "    \"\"\"\n",
    "    return kalman_main(x, P, measurement, R, motion, Q,\n",
    "                       F = np.matrix('''\n",
    "                       1. 0. 1. 0.;\n",
    "                       0. 1. 0. 1.;\n",
    "                       0. 0. 1. 0.;\n",
    "                       0. 0. 0. 1.\n",
    "                       '''),\n",
    "                       H = np.matrix('''\n",
    "                       1. 0. 0. 0.;\n",
    "                       0. 1. 0. 0.'''))"
   ]
  },
  {
   "cell_type": "code",
   "execution_count": 32,
   "id": "00f755b0",
   "metadata": {},
   "outputs": [],
   "source": [
    "#defining all the required variables\n",
    "#x,P: Predict the state using state's dynamic model\n",
    "\n",
    "def kalman_main(x, P, measurement, R, motion, Q, F, H):\n",
    "    '''\n",
    "    Parameters:\n",
    "    F: next state function: x_prime = F*x\n",
    "    H: measurement function: position = H*x\n",
    "    \n",
    "    '''\n",
    "    # Measured value\n",
    "    y = np.matrix(measurement).T - H * x\n",
    "    \n",
    "    # Update equation\n",
    "    I = np.matrix(np.eye(F.shape[0])) # identity matrix\n",
    "    S = H * P * H.T + R  # residual convariance\n",
    "    K = P * H.T * S.I    # Kalman gain\n",
    "    x = x + K*y\n",
    "    \n",
    "    P = (I - K*H)*P\n",
    "\n",
    "    # PREDICT x, P based on motion\n",
    "    x = F*x + motion\n",
    "    P = F*P*F.T + Q\n",
    "\n",
    "    return x, P\n",
    "    "
   ]
  },
  {
   "cell_type": "code",
   "execution_count": 34,
   "id": "5a495879",
   "metadata": {},
   "outputs": [],
   "source": [
    "def kalman_simulate():\n",
    "    x = np.matrix('0. 0. 0. 0.').T \n",
    "    P = np.matrix(np.eye(4))*1\n",
    "\n",
    "    N = 20\n",
    "    true_x = np.linspace(0.0, 10.0, N)\n",
    "    true_y = true_x**2\n",
    "    observed_x = true_x + 0.05*np.random.random(N)*true_x\n",
    "    observed_y = true_y + 0.05*np.random.random(N)*true_y\n",
    "    plt.plot(true_x, true_y, 'b-')\n",
    "    plt.plot(observed_x, observed_y, 'ro')\n",
    "    result = []\n",
    "    R = np.array([\n",
    "        [0.50, 0],\n",
    "        [0, 0.50]\n",
    "        ])\n",
    "    for meas in zip(observed_x, observed_y):\n",
    "        x, P = kalman_multi(x, P, meas, R)\n",
    "        result.append((x[:2]).tolist())\n",
    "    kalman_x, kalman_y = zip(*result)\n",
    "    plt.plot(kalman_x, kalman_y, 'g-')\n",
    "    plt.legend(['Actual Measurements','noisy position measurements', 'Kalman predicted positions'])\n",
    "    plt.xlabel(\"Time steps\")\n",
    "    plt.ylabel(\"Position\")\n",
    "    plt.show()"
   ]
  },
  {
   "cell_type": "code",
   "execution_count": 35,
   "id": "45aac24e",
   "metadata": {},
   "outputs": [
    {
     "data": {
      "image/png": "[encoded data removed]",
      "text/plain": [
       "<Figure size 432x288 with 1 Axes>"
      ]
     },
     "metadata": {
      "needs_background": "light"
     },
     "output_type": "display_data"
    }
   ],
   "source": [
    "kalman_simulate()"
   ]
  }
 ],
 "metadata": {
  "kernelspec": {
   "display_name": "Python 3 (ipykernel)",
   "language": "python",
   "name": "python3"
  },
  "language_info": {
   "codemirror_mode": {
    "name": "ipython",
    "version": 3
   },
   "file_extension": ".py",
   "mimetype": "text/x-python",
   "name": "python",
   "nbconvert_exporter": "python",
   "pygments_lexer": "ipython3",
   "version": "3.8.13"
  }
 },
 "nbformat": 4,
 "nbformat_minor": 5
}
